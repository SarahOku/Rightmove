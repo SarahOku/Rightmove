{
 "cells": [
  {
   "cell_type": "markdown",
   "metadata": {},
   "source": [
    "Mind map for my rightmove project \n",
    "\n",
    "- Objective of the project is to create a database of updated properties on rightmove that have been:\n",
    "\n",
    "1. Are between 200k and 400k\n",
    "2. At least 600 sq feet  \n",
    "4. on the site for less than 1 month\n",
    "\n",
    "- The data i want to collect is:\n",
    "\n",
    "1. Price\n",
    "2. How many bed \n",
    "3. How many bath \n",
    "4. Distance to central london/ or nearest station\n",
    "3. Leashold"
   ]
  },
  {
   "cell_type": "code",
   "execution_count": null,
   "metadata": {},
   "outputs": [],
   "source": []
  }
 ],
 "metadata": {
  "language_info": {
   "name": "python"
  },
  "orig_nbformat": 4
 },
 "nbformat": 4,
 "nbformat_minor": 2
}
